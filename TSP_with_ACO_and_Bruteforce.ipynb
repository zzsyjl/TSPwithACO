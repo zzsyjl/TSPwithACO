{
 "cells": [
  {
   "cell_type": "code",
   "execution_count": 1,
   "metadata": {},
   "outputs": [],
   "source": [
    "import numpy as np\n",
    "import time\n",
    "import matplotlib.pyplot as plt\n",
    "%matplotlib inline\n",
    "from pylab import *\n",
    "from mpl_toolkits.mplot3d import Axes3D"
   ]
  },
  {
   "cell_type": "code",
   "execution_count": 2,
   "metadata": {},
   "outputs": [],
   "source": [
    "class Ant():\n",
    "    def __init__(self, distance, alpha=1, beta=1):\n",
    "        self.distance = distance\n",
    "        self.cur_place = 0\n",
    "        self.visited = [0]\n",
    "        self.places_list = range(len(distance))\n",
    "        self.alpha = alpha\n",
    "        self.beta = beta\n",
    "\n",
    "    def traverse(self, info_map):\n",
    "        for i in range(len(self.distance) - 1):\n",
    "            self.step(info_map)\n",
    "    def step(self, info_map): \n",
    "        next_place = self.pick_move(info_map[self.cur_place], self.distance[self.cur_place])\n",
    "        info_map[self.cur_place, next_place] += 1.0 / self.distance[self.cur_place, next_place]  \n",
    "        self.cur_place = next_place\n",
    "        self.visited.append(next_place)\n",
    "\n",
    "    def pick_move(self, info_vector, distance_vector):\n",
    "        info_vector_copy = np.copy(info_vector)\n",
    "        info_vector_copy[self.visited] = 0\n",
    "        goodness_vector = info_vector_copy ** self.alpha * ((1.0 / distance_vector) ** self.beta)\n",
    "        normalized = goodness_vector / goodness_vector.sum()\n",
    "        #print(normalized)\n",
    "        next_place = np.random.choice(self.places_list, p=normalized)\n",
    "        return next_place\n",
    "\n",
    "    def pick_move_best(self, info_vector, distance_vector):\n",
    "        info_vector_copy = np.copy(info_vector)\n",
    "        info_vector_copy[self.visited] = 0\n",
    "        goodness_vector = info_vector_copy ** self.alpha * ((1.0 / distance_vector) ** self.beta)\n",
    "\n",
    "        #print(normalized)\n",
    "        next_place = goodness_vector.argmax()\n",
    "        return next_place\n",
    "\n",
    "class AntColonyOptimization():\n",
    "    def __init__(self, distance, num_ants, decay_rate, beta):\n",
    "        self.distance = distance\n",
    "        self.info_map = np.ones_like(self.distance)/len(distance)\n",
    "        self.best_route = []\n",
    "        self.best_route_distance = 0\n",
    "        self.num_ants = num_ants\n",
    "        self.decay_rate = decay_rate\n",
    "        self.beta = beta\n",
    "\n",
    "    def iteration(self, n, print_step, length_list):\n",
    "        for i in range(n):\n",
    "            for ant_i in range(num_ants):\n",
    "                ant = Ant(self.distance, beta=self.beta)\n",
    "                ant.traverse(self.info_map)\n",
    "            if i%print_step ==0:\n",
    "                self.find_best()\n",
    "                length_list.append(self.best_route_distance)\n",
    "            self.info_map *= self.decay_rate\n",
    "            # 每次迭代结束之后，都找到最优的路径，并更新此路径长度\n",
    "        \n",
    "    def find_best(self):\n",
    "        self.best_route, self.best_route_distance = [], 0\n",
    "        ant = Ant(self.distance)\n",
    "        self.best_route.append(ant.cur_place)\n",
    "        for i in range(len(self.distance) - 1):\n",
    "            next_place = ant.pick_move_best(self.info_map[ant.cur_place], self.distance[ant.cur_place])\n",
    "            self.best_route.append(next_place)\n",
    "            self.best_route_distance += self.distance[ant.cur_place, next_place]\n",
    "            ant.cur_place = next_place\n",
    "            ant.visited.append(next_place)"
   ]
  },
  {
   "cell_type": "code",
   "execution_count": 3,
   "metadata": {},
   "outputs": [
    {
     "name": "stdout",
     "output_type": "stream",
     "text": [
      "0.8928601514360016\n",
      "process_time:0.078s 1 / 25\n",
      "process_time:0.141s 2 / 25\n",
      "process_time:0.219s 3 / 25\n",
      "process_time:0.297s 4 / 25\n",
      "process_time:0.359s 5 / 25\n",
      "process_time:0.422s 6 / 25\n",
      "process_time:0.500s 7 / 25\n",
      "process_time:0.594s 8 / 25\n",
      "process_time:0.656s 9 / 25\n",
      "process_time:0.734s 10 / 25\n",
      "process_time:0.812s 11 / 25\n",
      "process_time:0.906s 12 / 25\n",
      "process_time:0.984s 13 / 25\n",
      "process_time:1.047s 14 / 25\n",
      "process_time:1.141s 15 / 25\n",
      "process_time:1.203s 16 / 25\n",
      "process_time:1.281s 17 / 25\n",
      "process_time:1.359s 18 / 25\n",
      "process_time:1.422s 19 / 25\n",
      "process_time:1.500s 20 / 25\n",
      "process_time:1.562s 21 / 25\n",
      "process_time:1.641s 22 / 25\n",
      "process_time:1.719s 23 / 25\n",
      "process_time:1.781s 24 / 25\n",
      "process_time:1.859s 25 / 25\n"
     ]
    }
   ],
   "source": [
    "np.random.seed(6)\n",
    "print(np.random.random())\n",
    "num_places = 20\n",
    "num_ants_list = [1]\n",
    "decay_rate_list = [0.2, 0.4, 0.6, 0.8, 0.95]\n",
    "num_iter = 100\n",
    "beta_list = [0.2, 0.4, 0.7, 1.2, 1.8]\n",
    "print_step = 10\n",
    "start = time.process_time()\n",
    "num_combinations = len(num_ants_list) * len(decay_rate_list) * len(beta_list)\n",
    "dict = {}\n",
    "#咱们是训练到了5蚂蚁，0.8的衰减率，0.2的beta即路径长度的重要性\n",
    "\n",
    "rounds = 0\n",
    "for num_ants in num_ants_list:\n",
    "    for decay_rate in decay_rate_list:\n",
    "        for beta in beta_list:\n",
    "            length_list = []\n",
    "            distance = np.random.randint(1, 6, size=(num_places, num_places)).astype(float)\n",
    "            distance += distance.T\n",
    "            for i in range(num_places):\n",
    "                distance[i, i] = np.inf\n",
    "            #print(distance)\n",
    "            aco = AntColonyOptimization(distance, num_ants, decay_rate, beta)\n",
    "            aco.iteration(num_iter, print_step, length_list)\n",
    "            #print(aco.best_route, aco.best_route_distance)\n",
    "            dict[num_ants, decay_rate, beta] = length_list\n",
    "            rounds += 1\n",
    "            end = time.process_time()\n",
    "            print('process_time:{:.3f}s'.format(end-start), rounds, '/', num_combinations)\n",
    "#print(str(dict))"
   ]
  },
  {
   "cell_type": "code",
   "execution_count": 4,
   "metadata": {},
   "outputs": [
    {
     "name": "stdout",
     "output_type": "stream",
     "text": [
      "[101.0, 100.0, 80.0, 94.0, 71.0, 91.0, 104.0, 93.0, 88.0, 75.0, 102.0, 79.0, 93.0, 90.0, 69.0, 87.0, 85.0, 62.0, 67.0, 70.0, 64.0, 75.0, 69.0, 68.0, 74.0] 25\n"
     ]
    },
    {
     "data": {
      "text/plain": [
       "Text(0.5, 0, 'length')"
      ]
     },
     "execution_count": 4,
     "metadata": {},
     "output_type": "execute_result"
    },
    {
     "data": {
      "image/png": "[encoded data removed]",
      "text/plain": [
       "<Figure size 432x288 with 1 Axes>"
      ]
     },
     "metadata": {
      "needs_background": "light"
     },
     "output_type": "display_data"
    }
   ],
   "source": [
    "#拿出最终的结果，并画出三维图像\n",
    "final_list = []\n",
    "for value in dict.values():\n",
    "    final_list.append(value[-1])\n",
    "#del final_list[-1]\n",
    "print(final_list, len(final_list))\n",
    "\n",
    "#为了对应好横纵坐标，我们需要扩充一下\n",
    "decay_1 = []\n",
    "for i in decay_rate_list:\n",
    "    for j in range(5):\n",
    "        decay_1.append(i)\n",
    "#print(decay_1)\n",
    "beta_1 = beta_list *5\n",
    "\n",
    "colors = ['red', 'orange', 'yellow', 'green','cyan']\n",
    "fig = plt.figure()\n",
    "ax = fig.add_subplot(111, projection='3d')\n",
    "for i in range(5):\n",
    "    ax.scatter(decay_1[i*5:i*5+5], beta_1[i*5:i*5+5], final_list[i*5:i*5+5], c=colors[i])\n",
    "ax.set_xlabel('decay')\n",
    "ax.set_ylabel('beta')\n",
    "ax.set_zlabel('length')\n",
    "#plt.show()"
   ]
  },
  {
   "cell_type": "code",
   "execution_count": 5,
   "metadata": {
    "scrolled": true
   },
   "outputs": [
    {
     "data": {
      "text/plain": [
       "<matplotlib.legend.Legend at 0x176bcea9988>"
      ]
     },
     "execution_count": 5,
     "metadata": {},
     "output_type": "execute_result"
    },
    {
     "data": {
      "image/png": "[encoded data removed]",
      "text/plain": [
       "<Figure size 432x288 with 1 Axes>"
      ]
     },
     "metadata": {
      "needs_background": "light"
     },
     "output_type": "display_data"
    }
   ],
   "source": [
    "start_combination = 0\n",
    "end_combination = 5\n",
    "for i in range(start_combination, end_combination):\n",
    "    plt.plot(range(0, 100, 10), list(dict.values())[i], label='{}'.format(i))\n",
    "plt.xlabel('iterations')\n",
    "plt.ylabel('length')\n",
    "plt.legend()"
   ]
  },
  {
   "cell_type": "code",
   "execution_count": 6,
   "metadata": {},
   "outputs": [],
   "source": [
    "\n",
    "\n",
    "'''\n",
    "用暴力方式来解决，怎么用面向对象的方式解决呢？我们认为，这个对象自身有属性distance，有当前的路径，有\n",
    "最好的路径，最短的长度\n",
    "方法有：根据当前的路径返回下一个路径；run就直接是循环了；根据路径返回距离\n",
    "'''\n",
    "class TSP_bruteforce():\n",
    "    def __init__(self, distance):\n",
    "        self.distance = distance\n",
    "        self.num_cities = len(distance) - 1#这里仅记录需要选择的城市数量，去掉了出发点\n",
    "        self.cur_path = list(range(1, self.num_cities+1))\n",
    "        self.best_path = self.cur_path\n",
    "        self.best_length = self.calculate_length(self.best_path)\n",
    "\n",
    "    def calculate_length(self, path):\n",
    "        length = 0\n",
    "        length += self.distance[0, path[0]]\n",
    "        for i in range(self.num_cities-1):\n",
    "            length += self.distance[path[i], path[i+1]]\n",
    "        return length\n",
    "\n",
    "    # 这里如果当前的是最后一个位置，那么就返回None，而run里判断循环终止也是看这里的返回值\n",
    "    # 第一，找到最后一个前小于后的数，再找最后一个大与那个前数，交换，然后后面倒序\n",
    "    def find_next(self):\n",
    "        next_path = self.cur_path\n",
    "        for i in range(len(next_path)-1, -1, -1):\n",
    "            if i == 0:\n",
    "                return None\n",
    "            if next_path[i-1] < next_path[i]:\n",
    "                left = i - 1\n",
    "                break\n",
    "        for j in range(len(next_path)-1, left, -1):\n",
    "            if next_path[j] > next_path[left]:\n",
    "                right = j\n",
    "                break\n",
    "        temp = next_path[left]\n",
    "        next_path[left] = next_path[right]\n",
    "        next_path[right] = temp\n",
    "        swaped = []\n",
    "        for k in range(len(next_path)-1, left, -1):\n",
    "            swaped.append(next_path[k])\n",
    "        for k in range(left+1, len(next_path)):\n",
    "            next_path[k] = swaped[k-left-1]\n",
    "        return next_path\n",
    "    \n",
    "    def run(self):\n",
    "        while True:\n",
    "            self.cur_path = self.find_next()\n",
    "            if self.cur_path is None:\n",
    "                break\n",
    "            next_length = self.calculate_length(self.cur_path)\n",
    "            if next_length < self.best_length:\n",
    "                self.best_length = next_length\n",
    "                self.best_path = self.cur_path\n",
    "                print('改进！', self.cur_path, next_length)"
   ]
  },
  {
   "cell_type": "code",
   "execution_count": 7,
   "metadata": {},
   "outputs": [
    {
     "name": "stdout",
     "output_type": "stream",
     "text": [
      "0.8928601514360016\n",
      "改进！ [1, 2, 3, 4, 5, 7, 6, 8, 9] 56.0\n",
      "改进！ [1, 2, 3, 5, 4, 6, 7, 8, 9] 55.0\n",
      "改进！ [1, 2, 3, 6, 4, 5, 7, 8, 9] 53.0\n",
      "改进！ [1, 2, 4, 5, 3, 6, 7, 8, 9] 52.0\n",
      "改进！ [1, 2, 4, 5, 7, 6, 3, 8, 9] 51.0\n",
      "改进！ [1, 2, 6, 3, 4, 5, 7, 8, 9] 49.0\n",
      "改进！ [1, 2, 6, 3, 7, 5, 4, 8, 9] 48.0\n",
      "改进！ [1, 3, 6, 2, 4, 5, 7, 8, 9] 47.0\n",
      "改进！ [1, 8, 7, 3, 6, 2, 4, 5, 9] 46.0\n",
      "改进！ [2, 6, 3, 4, 5, 7, 8, 1, 9] 45.0\n",
      "改进！ [2, 6, 3, 7, 5, 4, 8, 1, 9] 44.0\n",
      "改进！ [5, 4, 2, 6, 3, 7, 8, 1, 9] 43.0\n",
      "[[inf  7.  6.  8.  5.  5.  6.  7.  4.  6.]\n",
      " [ 7. inf  7.  7.  5.  7.  7.  7.  5.  6.]\n",
      " [ 6.  7. inf  8.  4. 10.  3.  8.  8.  8.]\n",
      " [ 8.  7.  8. inf  6.  7.  6.  6.  6.  8.]\n",
      " [ 5.  5.  4.  6. inf  3.  5.  7.  4.  6.]\n",
      " [ 5.  7. 10.  7.  3. inf  8.  5.  8.  7.]\n",
      " [ 6.  7.  3.  6.  5.  8. inf  6.  7.  8.]\n",
      " [ 7.  7.  8.  6.  7.  5.  6. inf  5. 10.]\n",
      " [ 4.  5.  8.  6.  4.  8.  7.  5. inf  7.]\n",
      " [ 6.  6.  8.  8.  6.  7.  8. 10.  7. inf]]\n",
      "process_time:1.328s for 10 cities\n"
     ]
    }
   ],
   "source": [
    "np.random.seed(6)\n",
    "print(np.random.random())\n",
    "num_places = 10\n",
    "\n",
    "start = time.process_time()\n",
    "\n",
    "\n",
    "distance = np.random.randint(1, 6, size=(num_places, num_places)).astype(float)\n",
    "distance += distance.T\n",
    "for i in range(num_places):\n",
    "    distance[i, i] = np.inf\n",
    "\n",
    "a = TSP_bruteforce(distance)\n",
    "a.run()\n",
    "print(distance)\n",
    "end = time.process_time()\n",
    "\n",
    "print('process_time:{:.3f}s'.format(end-start), 'for {} cities'.format(num_places))"
   ]
  },
  {
   "cell_type": "code",
   "execution_count": 8,
   "metadata": {
    "scrolled": true
   },
   "outputs": [
    {
     "data": {
      "image/png": "[encoded data removed]",
      "text/plain": [
       "<Figure size 432x288 with 1 Axes>"
      ]
     },
     "metadata": {
      "needs_background": "light"
     },
     "output_type": "display_data"
    }
   ],
   "source": [
    "yscale('log')\n",
    "ACO = [0.203, 0.656, 1.047]\n",
    "BruteForce = [1.344, 14.688, 163.016]\n",
    "x = np.arange(3)\n",
    "width = 1\n",
    "\n",
    "bar_width=0.3#设置柱状图的宽度\n",
    "tick_label=['10 cities','11 cities','12 cities']\n",
    "\n",
    "#绘制并列柱状图\n",
    "plt.bar(x,ACO,bar_width,color='salmon',label='ACO')\n",
    "plt.bar(x+bar_width,BruteForce,bar_width,color='orchid',label='BruteForce')\n",
    "\n",
    "plt.legend()#显示图例，即label\n",
    "plt.xticks(x+bar_width/2,tick_label)#显示x坐标轴的标签,即tick_label,调整位置，使其落在两个直方图中间位置\n",
    "plt.show()"
   ]
  }
 ],
 "metadata": {
  "kernelspec": {
   "display_name": "Python 3",
   "language": "python",
   "name": "python3"
  },
  "language_info": {
   "codemirror_mode": {
    "name": "ipython",
    "version": 3
   },
   "file_extension": ".py",
   "mimetype": "text/x-python",
   "name": "python",
   "nbconvert_exporter": "python",
   "pygments_lexer": "ipython3",
   "version": "3.7.4"
  }
 },
 "nbformat": 4,
 "nbformat_minor": 2
}
